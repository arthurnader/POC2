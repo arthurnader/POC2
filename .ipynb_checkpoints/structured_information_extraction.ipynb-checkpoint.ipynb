{
 "cells": [
  {
   "cell_type": "markdown",
   "metadata": {
    "id": "KydAoakkh1V9"
   },
   "source": [
    "## Libraries"
   ]
  },
  {
   "cell_type": "code",
   "execution_count": null,
   "metadata": {
    "id": "5CQAoiyymw3H"
   },
   "outputs": [],
   "source": [
    "from transformers import pipeline\n",
    "from bs4 import BeautifulSoup\n",
    "from urllib.request import urlopen"
   ]
  },
  {
   "cell_type": "markdown",
   "metadata": {
    "id": "Rb67KDPdxgHn"
   },
   "source": [
    "## Information extraction"
   ]
  },
  {
   "cell_type": "code",
   "execution_count": null,
   "metadata": {
    "id": "-1HsDmYkmw51"
   },
   "outputs": [],
   "source": [
    "def get_text(html):\n",
    "\n",
    "    for tags in html(['script', 'style']):\n",
    "        tags.decompose\n",
    "\n",
    "    return ' '. join(html.stripped_strings)"
   ]
  },
  {
   "cell_type": "code",
   "execution_count": null,
   "metadata": {
    "id": "jCqG2EE5nTbh"
   },
   "outputs": [],
   "source": [
    "def extract_information(url, targets):\n",
    "\n",
    "  html = urlopen(url)\n",
    "  soup = BeautifulSoup(html, 'html.parser')\n",
    "  text = get_text(soup)\n",
    "\n",
    "  nlp = pipeline(\"question-answering\", model = \"csarron/roberta-base-squad-v1\")\n",
    "\n",
    "  for target in targets:\n",
    "\n",
    "      question = nlp(question=f\"What is the {target}?\", context=text)\n",
    "      print(target+\": \" + str(question))"
   ]
  },
  {
   "cell_type": "code",
   "execution_count": null,
   "metadata": {
    "colab": {
     "base_uri": "https://localhost:8080/"
    },
    "id": "2kpvhz71nUqB",
    "outputId": "4f8b9501-fee0-4647-c29c-164471735d01"
   },
   "outputs": [
    {
     "name": "stderr",
     "output_type": "stream",
     "text": [
      "Some weights of the model checkpoint at csarron/roberta-base-squad-v1 were not used when initializing RobertaForQuestionAnswering: ['roberta.pooler.dense.weight', 'roberta.pooler.dense.bias']\n",
      "- This IS expected if you are initializing RobertaForQuestionAnswering from the checkpoint of a model trained on another task or with another architecture (e.g. initializing a BertForSequenceClassification model from a BertForPreTraining model).\n",
      "- This IS NOT expected if you are initializing RobertaForQuestionAnswering from the checkpoint of a model that you expect to be exactly identical (initializing a BertForSequenceClassification model from a BertForSequenceClassification model).\n"
     ]
    },
    {
     "name": "stdout",
     "output_type": "stream",
     "text": [
      "Fornecedor: {'score': 0.35193994641304016, 'start': 656, 'end': 676, 'answer': 'ZILDA MACEDO VENTURA'}\n",
      "Ano: {'score': 0.43550509214401245, 'start': 586, 'end': 590, 'answer': '2011'}\n",
      "Tipo: {'score': 0.3810722827911377, 'start': 937, 'end': 977, 'answer': 'Processado Situação: Original Histórico:'}\n"
     ]
    }
   ],
   "source": [
    "extract_information('https://pm-guarani.publicacao.siplanweb.com.br/restos-pagar/visualizar/13936', [\"Fornecedor\",  \"Ano\", \"Tipo\"])"
   ]
  },
  {
   "cell_type": "code",
   "execution_count": null,
   "metadata": {
    "colab": {
     "base_uri": "https://localhost:8080/"
    },
    "id": "bmGb9GKVnqRB",
    "outputId": "986e9bc1-b329-4f72-dde0-5963484ffdcb"
   },
   "outputs": [
    {
     "name": "stderr",
     "output_type": "stream",
     "text": [
      "Some weights of the model checkpoint at csarron/roberta-base-squad-v1 were not used when initializing RobertaForQuestionAnswering: ['roberta.pooler.dense.weight', 'roberta.pooler.dense.bias']\n",
      "- This IS expected if you are initializing RobertaForQuestionAnswering from the checkpoint of a model trained on another task or with another architecture (e.g. initializing a BertForSequenceClassification model from a BertForPreTraining model).\n",
      "- This IS NOT expected if you are initializing RobertaForQuestionAnswering from the checkpoint of a model that you expect to be exactly identical (initializing a BertForSequenceClassification model from a BertForSequenceClassification model).\n"
     ]
    },
    {
     "name": "stdout",
     "output_type": "stream",
     "text": [
      "associated senator: {'score': 0.9932594299316406, 'start': 1420, 'end': 1441, 'answer': 'Kimberly A. Lightford'}\n",
      "years served: {'score': 0.9022725820541382, 'start': 1082, 'end': 1104, 'answer': 'January 2013 - Present'}\n",
      "district: {'score': 0.13425682485103607, 'start': 849, 'end': 861, 'answer': '7th District'}\n"
     ]
    }
   ],
   "source": [
    "extract_information(\"https://www.ilga.gov/house/rep.asp?MemberID=3071\", [\"associated senator\", \"years served\", \"district\"])"
   ]
  },
  {
   "cell_type": "code",
   "execution_count": null,
   "metadata": {
    "id": "NsC8jxvWqfvM"
   },
   "outputs": [],
   "source": []
  }
 ],
 "metadata": {
  "colab": {
   "provenance": []
  },
  "kernelspec": {
   "display_name": "Python 3 (ipykernel)",
   "language": "python",
   "name": "python3"
  },
  "language_info": {
   "codemirror_mode": {
    "name": "ipython",
    "version": 3
   },
   "file_extension": ".py",
   "mimetype": "text/x-python",
   "name": "python",
   "nbconvert_exporter": "python",
   "pygments_lexer": "ipython3",
   "version": "3.10.12"
  }
 },
 "nbformat": 4,
 "nbformat_minor": 4
}
