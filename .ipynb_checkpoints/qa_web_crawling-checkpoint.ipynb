{
 "cells": [
  {
   "cell_type": "code",
   "execution_count": null,
   "metadata": {
    "id": "1xakZjOJi2TV"
   },
   "outputs": [],
   "source": [
    "!pip install chromadb\n",
    "!pip install sentence_transformers\n",
    "!pip install langchain"
   ]
  },
  {
   "cell_type": "markdown",
   "metadata": {
    "id": "-8_8Hb2AhlrH"
   },
   "source": [
    "## Libraries"
   ]
  },
  {
   "cell_type": "code",
   "execution_count": null,
   "metadata": {
    "id": "0tWINog77IZd"
   },
   "outputs": [],
   "source": [
    "from langchain.document_loaders import TextLoader\n",
    "from langchain.text_splitter import CharacterTextSplitter\n",
    "from langchain.embeddings import OpenAIEmbeddings\n",
    "from langchain.vectorstores import Chroma\n",
    "from langchain.chains import RetrievalQA\n",
    "from langchain.embeddings.sentence_transformer import SentenceTransformerEmbeddings"
   ]
  },
  {
   "cell_type": "code",
   "execution_count": null,
   "metadata": {
    "id": "07dVv-8_7UDn"
   },
   "outputs": [],
   "source": [
    "import urllib3\n",
    "from urllib.parse import urljoin\n",
    "from urllib.request import urlopen\n",
    "from bs4 import BeautifulSoup"
   ]
  },
  {
   "cell_type": "code",
   "execution_count": null,
   "metadata": {
    "id": "XIw9U17oWBXP"
   },
   "outputs": [],
   "source": [
    "from transformers import AutoTokenizer, AutoModelForSeq2SeqLM, pipeline\n",
    "\n",
    "tokenizer = AutoTokenizer.from_pretrained(\"unicamp-dl/translation-pt-en-t5\")\n",
    "model = AutoModelForSeq2SeqLM.from_pretrained(\"unicamp-dl/translation-pt-en-t5\")\n",
    "pten_pipeline = pipeline('text2text-generation', model=model, tokenizer=tokenizer)"
   ]
  },
  {
   "cell_type": "markdown",
   "metadata": {
    "id": "lnYb1u3U7ofk"
   },
   "source": [
    "## Web Crawling"
   ]
  },
  {
   "cell_type": "code",
   "execution_count": null,
   "metadata": {
    "id": "PQX36u457OPT"
   },
   "outputs": [],
   "source": [
    "def crawling(url_page):\n",
    "\n",
    "    urllib3.disable_warnings(urllib3.exceptions.InsecureRequestWarning)\n",
    "    http = urllib3.PoolManager()\n",
    "    resultados = []\n",
    "\n",
    "    try:\n",
    "        page_data = http.request('GET', url_page)\n",
    "    except:\n",
    "        print(\"Error: \" + url_page)\n",
    "\n",
    "\n",
    "    soup = BeautifulSoup(page_data.data, \"xml\")\n",
    "\n",
    "    links = soup.find_all('a')\n",
    "    counter = 0\n",
    "\n",
    "    for link in links:\n",
    "\n",
    "        if(\"href\" in link.attrs):\n",
    "            url = urljoin(url_page, str(link.get('href')))\n",
    "\n",
    "            if url.find(\"'\") != -1:\n",
    "                continue\n",
    "\n",
    "            url = url.split(\"#\")[0]\n",
    "            resultados.append(url)\n",
    "            counter += 1\n",
    "\n",
    "    print(\"Number of links: \" +  str(counter))\n",
    "\n",
    "    return resultados"
   ]
  },
  {
   "cell_type": "markdown",
   "metadata": {},
   "source": [
    "## Selecting links"
   ]
  },
  {
   "cell_type": "code",
   "execution_count": null,
   "metadata": {
    "id": "OKBzSUFW9Abx"
   },
   "outputs": [],
   "source": [
    "links = crawling(\"https://en.wikipedia.org/wiki/Programming_language\")\n",
    "links = links[500:520]\n",
    "links"
   ]
  },
  {
   "cell_type": "markdown",
   "metadata": {
    "id": "nVtjfrI_9Ayl"
   },
   "source": [
    "## Extracting text"
   ]
  },
  {
   "cell_type": "code",
   "execution_count": null,
   "metadata": {
    "id": "nA2uJUBLBYj3"
   },
   "outputs": [],
   "source": [
    "arq = open(\"pages_content.txt\", \"w\")"
   ]
  },
  {
   "cell_type": "code",
   "execution_count": null,
   "metadata": {
    "id": "ivI6O092BCe0"
   },
   "outputs": [],
   "source": [
    "def get_text(html):\n",
    "\n",
    "    for tags in html(['script', 'style']):\n",
    "        tags.decompose\n",
    "\n",
    "    return ' '. join(html.stripped_strings)"
   ]
  },
  {
   "cell_type": "code",
   "execution_count": null,
   "metadata": {
    "id": "COK6OcGA9lWx"
   },
   "outputs": [],
   "source": [
    "def extract_information(url):\n",
    "\n",
    "    html = urlopen(url)\n",
    "    soup = BeautifulSoup(html, 'html.parser')\n",
    "    text = get_text(soup)\n",
    "\n",
    "    words = text.split()\n",
    "    text_with_line_breaks = ' '.join([word + ('\\n' if (i + 1) % 100 == 0 else ' ') for i, word in enumerate(words)])\n",
    "\n",
    "    arq.write(text_with_line_breaks)\n",
    "    arq.write(\"\\n\")"
   ]
  },
  {
   "cell_type": "code",
   "execution_count": null,
   "metadata": {
    "id": "Kboo5_CABl_F"
   },
   "outputs": [],
   "source": [
    "for link in links:\n",
    "  extract_information(link)"
   ]
  },
  {
   "cell_type": "code",
   "execution_count": null,
   "metadata": {
    "id": "J_kCG6Q_BfIU"
   },
   "outputs": [],
   "source": [
    "arq.close()"
   ]
  },
  {
   "cell_type": "markdown",
   "metadata": {
    "id": "M0SHmRB87s5k"
   },
   "source": [
    "## Document loaders"
   ]
  },
  {
   "cell_type": "code",
   "execution_count": null,
   "metadata": {
    "id": "m0y-F6Mq7bwm"
   },
   "outputs": [],
   "source": [
    "loader = TextLoader('pages_content.txt')\n",
    "documents = loader.load()"
   ]
  },
  {
   "cell_type": "markdown",
   "metadata": {
    "id": "1Mb7tjXk7fRO"
   },
   "source": [
    "## Document transformers"
   ]
  },
  {
   "cell_type": "code",
   "execution_count": null,
   "metadata": {
    "id": "OuucPKnMSHOP"
   },
   "outputs": [],
   "source": [
    "text_splitter = CharacterTextSplitter(\n",
    "    separator = \"\\n\",\n",
    "    chunk_size = 200,\n",
    "    chunk_overlap  = 20,\n",
    "    length_function = len,\n",
    "    is_separator_regex = False,\n",
    ")"
   ]
  },
  {
   "cell_type": "code",
   "execution_count": null,
   "metadata": {
    "id": "_x0c7whyi8t-"
   },
   "outputs": [],
   "source": [
    "#text_splitter = CharacterTextSplitter (chunk_size=25, chunk_overlap=0)\n",
    "texts= text_splitter.split_documents(documents)\n",
    "len(texts)"
   ]
  },
  {
   "cell_type": "markdown",
   "metadata": {
    "id": "pbggxsY6733K"
   },
   "source": [
    "## Text embedding models"
   ]
  },
  {
   "cell_type": "code",
   "execution_count": null,
   "metadata": {
    "id": "sRw4uqp77_Yg"
   },
   "outputs": [],
   "source": [
    "embeddings = SentenceTransformerEmbeddings(model_name=\"all-MiniLM-L6-v2\")"
   ]
  },
  {
   "cell_type": "markdown",
   "metadata": {
    "id": "nn32MzOO8EUD"
   },
   "source": [
    "## Vector stores"
   ]
  },
  {
   "cell_type": "code",
   "execution_count": null,
   "metadata": {
    "id": "4FLEx4yM8E0h"
   },
   "outputs": [],
   "source": [
    "db = Chroma.from_documents(texts, embeddings)"
   ]
  },
  {
   "cell_type": "code",
   "execution_count": null,
   "metadata": {
    "colab": {
     "background_save": true
    },
    "id": "RPWNw2j38LGR"
   },
   "outputs": [],
   "source": [
    "db._collection.get(include=['embeddings'])"
   ]
  },
  {
   "cell_type": "markdown",
   "metadata": {
    "id": "hILKBUFr8NxH"
   },
   "source": [
    "## Retrievers"
   ]
  },
  {
   "cell_type": "code",
   "execution_count": null,
   "metadata": {
    "colab": {
     "background_save": true
    },
    "id": "qhBX0PBv8O_x"
   },
   "outputs": [],
   "source": [
    "retriever = db.as_retriever(search_kwargs={\"k\": 1})"
   ]
  },
  {
   "cell_type": "code",
   "execution_count": null,
   "metadata": {
    "colab": {
     "background_save": true
    },
    "id": "p6jtdTzN8XxW"
   },
   "outputs": [],
   "source": [
    "retriever"
   ]
  },
  {
   "cell_type": "markdown",
   "metadata": {
    "id": "ifM9syAW8bEn"
   },
   "source": [
    "## Question 1"
   ]
  },
  {
   "cell_type": "code",
   "execution_count": null,
   "metadata": {
    "id": "xbpqIjkg8c9N"
   },
   "outputs": [],
   "source": [
    "docs = retriever.get_relevant_documents(\"Who created Python programming language??\")\n",
    "docs"
   ]
  },
  {
   "cell_type": "markdown",
   "metadata": {
    "id": "6t4U0Dtm8bMu"
   },
   "source": [
    "## Question 2"
   ]
  },
  {
   "cell_type": "code",
   "execution_count": null,
   "metadata": {
    "id": "Gd59-oND8leq"
   },
   "outputs": [],
   "source": [
    "docs = retriever.get_relevant_documents(\"Is C a object oriented language?\")\n",
    "docs\n"
   ]
  },
  {
   "cell_type": "markdown",
   "metadata": {
    "id": "d20X9ea58bQd"
   },
   "source": [
    "## Question 3"
   ]
  },
  {
   "cell_type": "code",
   "execution_count": null,
   "metadata": {
    "id": "TCZ60ckXkLES"
   },
   "outputs": [],
   "source": [
    "docs = retriever.get_relevant_documents(\"Is JavaScript used in web programming?\")\n",
    "docs\n"
   ]
  },
  {
   "cell_type": "markdown",
   "metadata": {
    "id": "z8c7tPARkHcb"
   },
   "source": [
    "## Question 4"
   ]
  },
  {
   "cell_type": "code",
   "execution_count": null,
   "metadata": {
    "id": "lvLASoThkJ8g"
   },
   "outputs": [],
   "source": [
    "docs = retriever.get_relevant_documents(\"What are the programming paradigms?\")\n",
    "docs"
   ]
  },
  {
   "cell_type": "code",
   "execution_count": null,
   "metadata": {
    "id": "90KRxCFhkaWA"
   },
   "outputs": [],
   "source": []
  }
 ],
 "metadata": {
  "colab": {
   "provenance": []
  },
  "kernelspec": {
   "display_name": "Python 3 (ipykernel)",
   "language": "python",
   "name": "python3"
  },
  "language_info": {
   "codemirror_mode": {
    "name": "ipython",
    "version": 3
   },
   "file_extension": ".py",
   "mimetype": "text/x-python",
   "name": "python",
   "nbconvert_exporter": "python",
   "pygments_lexer": "ipython3",
   "version": "3.10.12"
  }
 },
 "nbformat": 4,
 "nbformat_minor": 4
}
